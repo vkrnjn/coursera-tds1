{
 "cells": [
  {
   "cell_type": "markdown",
   "id": "a786d8f8-0fa8-420f-bd8e-0aedf75de9dc",
   "metadata": {},
   "source": [
    "# Tools For Data Science Assignment"
   ]
  },
  {
   "cell_type": "markdown",
   "id": "0b38c023-72a9-4745-8a63-cf7382a4f623",
   "metadata": {},
   "source": [
    "## Introduction\n",
    "This notebook gives an overview of different tools used for data science like languages, libraries, and some other tools etc. This uses markdown and code feature of jupyter notebook to do the different the work."
   ]
  },
  {
   "cell_type": "markdown",
   "id": "88e4da98-05bf-4f49-a8cc-23568f538e41",
   "metadata": {},
   "source": [
    "**OBJECTIVES**<br>\n",
    "\n",
    "Takeaways of this course are\n",
    "\n",
    "* different libraries, languages and tools of data science\n",
    "* learning about jupyter notebook and how to work in it\n",
    "* learning about RStudio IDE\n",
    "* learning about GitHub\n",
    "* learning about watson studio and some other IBM tools\n"
   ]
  },
  {
   "cell_type": "markdown",
   "id": "f156202c-af50-46da-8608-3785cf2fd6bb",
   "metadata": {},
   "source": [
    "## Data Science Languages\n",
    "Some of the popular languages used by data scientists are\n",
    "1. Python.\n",
    "2. R.\n",
    "3. SQL.\n",
    "4. C++\n"
   ]
  },
  {
   "cell_type": "markdown",
   "id": "5de7a51a-bf15-4afd-805d-1982656336a5",
   "metadata": {},
   "source": [
    "## Data Science Libraries\n",
    "some of the commonly used libraries by data scientists are\n",
    "1. Numpy.\n",
    "2. Pandas.\n",
    "3. Matplotlib.\n",
    "4. scikit-learn.\n",
    "5. SciPy"
   ]
  },
  {
   "cell_type": "markdown",
   "id": "7cfb964a-76e1-42b7-b194-3978499ed4b4",
   "metadata": {},
   "source": [
    "Table mentioning open source development environment tools used in data science\n",
    "| `Data Science Tools` |\n",
    "| --- |\n",
    "| RStudio |\n",
    "| JupyterLab|\n",
    "| GitHub |"
   ]
  },
  {
   "cell_type": "markdown",
   "id": "4a603bf9-8e85-48a8-9383-30fff29069ff",
   "metadata": {},
   "source": [
    "### Below are a few examples of evaluating arithmetic expressions in Python\n",
    "we can use delimiter to insert mathematical expression in markdown <br> \n",
    "\n",
    "$1+1=2$<br>\n",
    "\n",
    "$\\hat{Y} = \\hat{\\beta}_{0} + \\sum \\limits _{j=1} ^{p} X_{j}\\hat{\\beta}_{j} $\n"
   ]
  },
  {
   "cell_type": "code",
   "execution_count": 2,
   "id": "0466b6e5-eaa0-41b7-92c1-dec3135aa89c",
   "metadata": {},
   "outputs": [
    {
     "data": {
      "text/plain": [
       "130"
      ]
     },
     "execution_count": 2,
     "metadata": {},
     "output_type": "execute_result"
    }
   ],
   "source": [
    "# This a simple arithmetic expression to mutiply then add integers\n",
    "4*5+11*10"
   ]
  },
  {
   "cell_type": "code",
   "execution_count": 6,
   "id": "45236220-9f76-4e6e-b2ae-005901341741",
   "metadata": {},
   "outputs": [
    {
     "name": "stdin",
     "output_type": "stream",
     "text": [
      "enter the value of minutes 500\n"
     ]
    },
    {
     "name": "stdout",
     "output_type": "stream",
     "text": [
      "in 500 minutes there are 8 hours and 20 minutes\n"
     ]
    }
   ],
   "source": [
    "# Following is the code to convert minutes to hours\n",
    "min = int(input('enter the value of minutes'))\n",
    "hour = min//60\n",
    "minutes = min%60\n",
    "print('in',min,'minutes there are',hour,'hours and',minutes,'minutes' )"
   ]
  },
  {
   "cell_type": "markdown",
   "id": "d0b5ae56-ab46-478e-b9c4-828a4b41f358",
   "metadata": {},
   "source": [
    "## Author\n",
    "Vikrant Kumar Ranjan\n"
   ]
  },
  {
   "cell_type": "code",
   "execution_count": null,
   "id": "d1cef966-45d3-45c1-9564-82a6aec0f58e",
   "metadata": {},
   "outputs": [],
   "source": []
  }
 ],
 "metadata": {
  "kernelspec": {
   "display_name": "Python",
   "language": "python",
   "name": "conda-env-python-py"
  },
  "language_info": {
   "codemirror_mode": {
    "name": "ipython",
    "version": 3
   },
   "file_extension": ".py",
   "mimetype": "text/x-python",
   "name": "python",
   "nbconvert_exporter": "python",
   "pygments_lexer": "ipython3",
   "version": "3.7.12"
  }
 },
 "nbformat": 4,
 "nbformat_minor": 5
}
